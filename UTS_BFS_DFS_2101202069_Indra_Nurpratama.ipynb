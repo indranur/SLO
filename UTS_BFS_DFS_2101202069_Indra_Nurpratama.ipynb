{
  "nbformat": 4,
  "nbformat_minor": 0,
  "metadata": {
    "colab": {
      "name": "UTS_BFS_DFS_2101202069_Indra Nurpratama.ipynb",
      "provenance": [],
      "authorship_tag": "ABX9TyOkVKVq+pYzFumAbWSNOw3m",
      "include_colab_link": true
    },
    "kernelspec": {
      "name": "python3",
      "display_name": "Python 3"
    },
    "language_info": {
      "name": "python"
    }
  },
  "cells": [
    {
      "cell_type": "markdown",
      "metadata": {
        "id": "view-in-github",
        "colab_type": "text"
      },
      "source": [
        "<a href=\"https://colab.research.google.com/github/indranur/SLO/blob/main/UTS_BFS_DFS_2101202069_Indra_Nurpratama.ipynb\" target=\"_parent\"><img src=\"https://colab.research.google.com/assets/colab-badge.svg\" alt=\"Open In Colab\"/></a>"
      ]
    },
    {
      "cell_type": "code",
      "metadata": {
        "id": "esgP2h7qUks7"
      },
      "source": [
        "import collections"
      ],
      "execution_count": 1,
      "outputs": []
    },
    {
      "cell_type": "code",
      "metadata": {
        "id": "k9CjQVW9UnaC"
      },
      "source": [
        "def bfs(graph, root):\n",
        "    seen, queue = set([root]), collections.deque([root])\n",
        "    while queue:\n",
        "      vertex = queue.popleft()\n",
        "      visit(vertex)\n",
        "      for node in graph[vertex]:\n",
        "          if node not in seen:\n",
        "              seen.add(node)\n",
        "              queue.append(node)\n",
        "\n",
        "def visit(n):\n",
        "    print(n)"
      ],
      "execution_count": 3,
      "outputs": []
    },
    {
      "cell_type": "code",
      "metadata": {
        "id": "g3sCBK6FboTr"
      },
      "source": [
        "visited = set() # Set to keep track of visited nodes of graph.\n",
        "\n",
        "def dfs(visited, graph, node):  #function for dfs \n",
        "    if node not in visited:\n",
        "        print (node)\n",
        "        visited.add(node)\n",
        "        for neighbour in graph[node]:\n",
        "            dfs(visited, graph, neighbour)"
      ],
      "execution_count": 40,
      "outputs": []
    },
    {
      "cell_type": "code",
      "metadata": {
        "id": "BdIAia8IUorW"
      },
      "source": [
        "if __name__ == \"__main__\":\n",
        "    # This is Tree\n",
        "    graph = {\n",
        "        '#I': ['#ABC'],\n",
        "        '#ABC': ['#12', '#13', '#J'],\n",
        "        '#J' : ['#ABC', '#G', '#F', '#H'],\n",
        "        '#H' : ['#J', '#D', '#C'],\n",
        "        '#C' : ['#H', '#A', '#B'],\n",
        "        '#A' : ['#C'],\n",
        "        '#B' : ['#C'],\n",
        "        '#D' : ['#H'],\n",
        "        '#F' : ['#J', '#E'],\n",
        "        '#E' : ['#F'],\n",
        "        '#G' : ['#J'],\n",
        "        '#12': ['#11', '#9'],\n",
        "        '#13': ['#4', '#0'],\n",
        "        '#0' : ['#4'],\n",
        "        '#9': ['#4', '#11', '#12'],\n",
        "        '#4': ['#9', '#13', '#0', '#1', '#2'],\n",
        "        '#1' : ['#5', '#4'],\n",
        "        '#11': ['#9', '#12', '#8'],\n",
        "        '#8': ['#11', '#7'],\n",
        "        '#7': ['#8', '#6'],\n",
        "        '#2': ['#4', '#5', '#3'],\n",
        "        '#5' : ['#2', '#1'],\n",
        "        '#3': ['#2','#6'],\n",
        "        '#6' : ['#3', '#7'],\n",
        "    }"
      ],
      "execution_count": 41,
      "outputs": []
    },
    {
      "cell_type": "code",
      "metadata": {
        "colab": {
          "base_uri": "https://localhost:8080/"
        },
        "id": "yDci6T7iUonx",
        "outputId": "9dc936fa-d31b-4d1b-eafa-9abb67c80a52"
      },
      "source": [
        "bfs(graph, '#I')"
      ],
      "execution_count": 38,
      "outputs": [
        {
          "output_type": "stream",
          "name": "stdout",
          "text": [
            "#I\n",
            "#ABC\n",
            "#12\n",
            "#13\n",
            "#J\n",
            "#11\n",
            "#9\n",
            "#4\n",
            "#0\n",
            "#G\n",
            "#F\n",
            "#H\n",
            "#8\n",
            "#1\n",
            "#2\n",
            "#E\n",
            "#D\n",
            "#C\n",
            "#7\n",
            "#5\n",
            "#3\n",
            "#A\n",
            "#B\n",
            "#6\n"
          ]
        }
      ]
    },
    {
      "cell_type": "code",
      "metadata": {
        "colab": {
          "base_uri": "https://localhost:8080/"
        },
        "id": "Q3xSueOfbgRc",
        "outputId": "3e71c605-96f5-42f5-9a03-741b987f11cb"
      },
      "source": [
        "dfs(visited, graph, '#I')"
      ],
      "execution_count": 42,
      "outputs": [
        {
          "output_type": "stream",
          "name": "stdout",
          "text": [
            "#I\n",
            "#ABC\n",
            "#12\n",
            "#11\n",
            "#9\n",
            "#4\n",
            "#13\n",
            "#0\n",
            "#1\n",
            "#5\n",
            "#2\n",
            "#3\n",
            "#6\n",
            "#7\n",
            "#8\n",
            "#J\n",
            "#G\n",
            "#F\n",
            "#E\n",
            "#H\n",
            "#D\n",
            "#C\n",
            "#A\n",
            "#B\n"
          ]
        }
      ]
    }
  ]
}